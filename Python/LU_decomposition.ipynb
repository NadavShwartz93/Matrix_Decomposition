{
 "cells": [
  {
   "cell_type": "markdown",
   "id": "5eb3766d",
   "metadata": {},
   "source": [
    "# Calculation of LU Decomposition\n",
    "--------------------------------------------------------------------------------------------------\n",
    "\n",
    "Useful References:\n",
    "- [wikipedia - LU decomposition](https://en.wikipedia.org/wiki/LU_decomposition)"
   ]
  },
  {
   "cell_type": "code",
   "execution_count": 1,
   "id": "37324603",
   "metadata": {},
   "outputs": [],
   "source": [
    "import numpy as np\n",
    "from time import time\n",
    "from scipy.linalg import lu"
   ]
  },
  {
   "cell_type": "markdown",
   "id": "2a6839b5",
   "metadata": {},
   "source": [
    "### Read input file: \n",
    "--------------------------------------------------------------------------------------------------\n",
    "Read matrix from **data_10.txt** and convert it to numpy array."
   ]
  },
  {
   "cell_type": "code",
   "execution_count": 2,
   "id": "b5835c2d",
   "metadata": {},
   "outputs": [],
   "source": [
    "inputMatrix = np.genfromtxt(\"data_10.txt\", dtype= float, delimiter=\",\")"
   ]
  },
  {
   "cell_type": "code",
   "execution_count": 3,
   "id": "16c62124",
   "metadata": {},
   "outputs": [
    {
     "name": "stdout",
     "output_type": "stream",
     "text": [
      "InputMatrix = \n",
      "[[5.18800e-01 5.14200e-01 6.15600e-01 ... 1.47100e-01 6.92000e-02\n",
      "  3.09000e-02]\n",
      " [5.14200e-01 6.97900e-01 7.43700e-01 ... 3.22800e-01 2.32300e-01\n",
      "  1.28800e-01]\n",
      " [6.15600e-01 7.43700e-01 9.60000e-01 ... 3.15400e-01 2.67800e-01\n",
      "  1.94400e-01]\n",
      " ...\n",
      " [1.47100e-01 3.22800e-01 3.15400e-01 ... 9.48794e+01 5.83988e+01\n",
      "  3.36410e+01]\n",
      " [6.92000e-02 2.32300e-01 2.67800e-01 ... 5.83988e+01 7.02466e+01\n",
      "  3.38139e+01]\n",
      " [3.09000e-02 1.28800e-01 1.94400e-01 ... 3.36410e+01 3.38139e+01\n",
      "  4.56111e+01]]\n"
     ]
    }
   ],
   "source": [
    "print(f'InputMatrix = \\n{inputMatrix}')"
   ]
  },
  {
   "cell_type": "markdown",
   "id": "509fa328",
   "metadata": {},
   "source": [
    "### LU decomposition of the scipy Linear algebra\n",
    "--------------------------------------------------------------------------------------------------"
   ]
  },
  {
   "cell_type": "code",
   "execution_count": 11,
   "id": "e44707e5",
   "metadata": {},
   "outputs": [
    {
     "name": "stdout",
     "output_type": "stream",
     "text": [
      "Total Time Taken = 0.11765551567077637 sec\n"
     ]
    }
   ],
   "source": [
    "start = time()\n",
    "P, L, U = lu(inputMatrix)\n",
    "print(f'Total Time Taken = {time() - start} sec')"
   ]
  },
  {
   "cell_type": "code",
   "execution_count": 5,
   "id": "90185cb1",
   "metadata": {},
   "outputs": [
    {
     "name": "stdout",
     "output_type": "stream",
     "text": [
      "P = \n",
      "[[0. 0. 0. ... 0. 0. 0.]\n",
      " [0. 0. 0. ... 0. 0. 0.]\n",
      " [0. 0. 0. ... 0. 0. 0.]\n",
      " ...\n",
      " [0. 0. 0. ... 0. 0. 0.]\n",
      " [0. 0. 0. ... 0. 0. 0.]\n",
      " [0. 0. 0. ... 0. 0. 0.]]\n",
      "\n",
      "L = \n",
      "[[ 1.          0.          0.         ...  0.          0.\n",
      "   0.        ]\n",
      " [ 0.88294279  1.          0.         ...  0.          0.\n",
      "   0.        ]\n",
      " [ 0.7957759  -0.50806557  1.         ...  0.          0.\n",
      "   0.        ]\n",
      " ...\n",
      " [ 0.01443284  0.01578783  0.0155141  ...  1.          0.\n",
      "   0.        ]\n",
      " [ 0.0262328  -0.01073167  0.02852651 ...  0.67669537  1.\n",
      "   0.        ]\n",
      " [ 0.0224246   0.04076155  0.01312292 ... -0.88798463 -0.00615127\n",
      "   1.        ]]\n",
      "\n",
      "U = \n",
      "[[ 36.5001      44.8122      52.6052     ...  46.46        32.5423\n",
      "   18.6102    ]\n",
      " [  0.          -0.83400874   0.18071813 ... -11.67462186  -8.21398904\n",
      "   -4.67844184]\n",
      " [  0.           0.           1.17986618 ...  16.07707816  11.02467683\n",
      "    6.37609608]\n",
      " ...\n",
      " [  0.           0.           0.         ...   3.94081679   1.36959568\n",
      "    5.09150392]\n",
      " [  0.           0.           0.         ...   0.           6.83687354\n",
      "   -0.05875312]\n",
      " [  0.           0.           0.         ...   0.           0.\n",
      "    8.59150742]]\n"
     ]
    },
    {
     "data": {
      "text/plain": [
       "array([[5.18800e-01, 5.14200e-01, 6.15600e-01, ..., 1.47100e-01,\n",
       "        6.92000e-02, 3.09000e-02],\n",
       "       [5.14200e-01, 6.97900e-01, 7.43700e-01, ..., 3.22800e-01,\n",
       "        2.32300e-01, 1.28800e-01],\n",
       "       [6.15600e-01, 7.43700e-01, 9.60000e-01, ..., 3.15400e-01,\n",
       "        2.67800e-01, 1.94400e-01],\n",
       "       ...,\n",
       "       [1.47100e-01, 3.22800e-01, 3.15400e-01, ..., 9.48794e+01,\n",
       "        5.83988e+01, 3.36410e+01],\n",
       "       [6.92000e-02, 2.32300e-01, 2.67800e-01, ..., 5.83988e+01,\n",
       "        7.02466e+01, 3.38139e+01],\n",
       "       [3.09000e-02, 1.28800e-01, 1.94400e-01, ..., 3.36410e+01,\n",
       "        3.38139e+01, 4.56111e+01]])"
      ]
     },
     "execution_count": 5,
     "metadata": {},
     "output_type": "execute_result"
    }
   ],
   "source": [
    "print(f'P = \\n{P}\\n')\n",
    "print(f'L = \\n{L}\\n')\n",
    "print(f'U = \\n{U}')\n",
    "\n",
    "P@L@U"
   ]
  },
  {
   "cell_type": "markdown",
   "id": "1cd41fe4",
   "metadata": {},
   "source": [
    "### Our Implementation For LU Decomposition\n",
    "--------------------------------------------------------------------------------------------------\n",
    "- This is LU decomposition with pivoted"
   ]
  },
  {
   "cell_type": "code",
   "execution_count": 6,
   "id": "eefc14e2",
   "metadata": {},
   "outputs": [],
   "source": [
    "def LU_decomposition(A):\n",
    "    \n",
    "    #Get the number of rows\n",
    "    n = A.shape[0]\n",
    "    \n",
    "    #Allocate space for P, L, and U\n",
    "    U = A.copy()\n",
    "    L = np.eye(n, dtype=np.double)\n",
    "    P = np.eye(n, dtype=np.double)\n",
    "    \n",
    "    #Loop over rows\n",
    "    for i in range(n):\n",
    "        \n",
    "        #Permute rows if needed\n",
    "        for k in range(i, n): \n",
    "            if ~np.isclose(U[i, i], 0.0):\n",
    "                break\n",
    "            U[[k, k+1]] = U[[k+1, k]]\n",
    "            P[[k, k+1]] = P[[k+1, k]]\n",
    "            \n",
    "        #Eliminate entries below i with row \n",
    "        #operations on U and #reverse the row \n",
    "        #operations to manipulate L\n",
    "        factor = U[i+1:, i] / U[i, i]\n",
    "        L[i+1:, i] = factor\n",
    "        U[i+1:] -= factor[:, np.newaxis] * U[i]\n",
    "        \n",
    "    return P, L, U"
   ]
  },
  {
   "cell_type": "code",
   "execution_count": 7,
   "id": "567620b4",
   "metadata": {
    "scrolled": true
   },
   "outputs": [
    {
     "name": "stdout",
     "output_type": "stream",
     "text": [
      "Total Time Taken = 13.484934568405151 sec\n"
     ]
    }
   ],
   "source": [
    "start = time()\n",
    "p, l, u = LU_decomposition(inputMatrix)\n",
    "print(f'Total Time Taken = {time() - start} sec')"
   ]
  },
  {
   "cell_type": "code",
   "execution_count": 8,
   "id": "dbfea005",
   "metadata": {},
   "outputs": [
    {
     "name": "stdout",
     "output_type": "stream",
     "text": [
      "P = \n",
      "[[1. 0. 0. ... 0. 0. 0.]\n",
      " [0. 1. 0. ... 0. 0. 0.]\n",
      " [0. 0. 1. ... 0. 0. 0.]\n",
      " ...\n",
      " [0. 0. 0. ... 1. 0. 0.]\n",
      " [0. 0. 0. ... 0. 1. 0.]\n",
      " [0. 0. 0. ... 0. 0. 1.]]\n",
      "\n",
      "L = \n",
      "[[1.         0.         0.         ... 0.         0.         0.        ]\n",
      " [0.99113338 1.         0.         ... 0.         0.         0.        ]\n",
      " [1.18658443 0.70943826 1.         ... 0.         0.         0.        ]\n",
      " ...\n",
      " [0.28353894 0.94021576 0.11336252 ... 1.         0.         0.        ]\n",
      " [0.13338473 0.86961784 0.51595146 ... 0.46476345 1.         0.        ]\n",
      " [0.05956052 0.52148299 0.65351992 ... 0.27599314 0.37433931 1.        ]]\n",
      "\n",
      "U = \n",
      "[[ 5.18800000e-01  5.14200000e-01  6.15600000e-01 ...  1.47100000e-01\n",
      "   6.92000000e-02  3.09000000e-02]\n",
      " [ 0.00000000e+00  1.88259214e-01  1.33558288e-01 ...  1.77004279e-01\n",
      "   1.63713570e-01  9.81739784e-02]\n",
      " [ 0.00000000e+00  0.00000000e+00  1.34787268e-01 ...  1.52798237e-02\n",
      "   6.95436881e-02  8.80861651e-02]\n",
      " ...\n",
      " [-2.58671653e-15 -3.82926890e-16  8.17218387e-17 ...  2.78394434e+01\n",
      "   1.29387558e+01  7.68349544e+00]\n",
      " [-2.28765592e-15  7.23177883e-16 -2.69612772e-16 ...  0.00000000e+00\n",
      "   2.62002053e+01  9.80776683e+00]\n",
      " [-1.53253771e-15 -7.85346513e-17  1.32072545e-16 ...  8.88178420e-16\n",
      "   0.00000000e+00  2.28156201e+01]]\n"
     ]
    },
    {
     "data": {
      "text/plain": [
       "array([[5.18800e-01, 5.14200e-01, 6.15600e-01, ..., 1.47100e-01,\n",
       "        6.92000e-02, 3.09000e-02],\n",
       "       [5.14200e-01, 6.97900e-01, 7.43700e-01, ..., 3.22800e-01,\n",
       "        2.32300e-01, 1.28800e-01],\n",
       "       [6.15600e-01, 7.43700e-01, 9.60000e-01, ..., 3.15400e-01,\n",
       "        2.67800e-01, 1.94400e-01],\n",
       "       ...,\n",
       "       [1.47100e-01, 3.22800e-01, 3.15400e-01, ..., 9.48794e+01,\n",
       "        5.83988e+01, 3.36410e+01],\n",
       "       [6.92000e-02, 2.32300e-01, 2.67800e-01, ..., 5.83988e+01,\n",
       "        7.02466e+01, 3.38139e+01],\n",
       "       [3.09000e-02, 1.28800e-01, 1.94400e-01, ..., 3.36410e+01,\n",
       "        3.38139e+01, 4.56111e+01]])"
      ]
     },
     "execution_count": 8,
     "metadata": {},
     "output_type": "execute_result"
    }
   ],
   "source": [
    "print(f'P = \\n{p}\\n')\n",
    "print(f'L = \\n{l}\\n')\n",
    "print(f'U = \\n{u}')\n",
    "l@u"
   ]
  },
  {
   "cell_type": "markdown",
   "id": "47a67adc",
   "metadata": {},
   "source": [
    "### Check the LU Decomposition result.\n",
    "--------------------------------------------------------------------------------------------------"
   ]
  },
  {
   "cell_type": "code",
   "execution_count": 9,
   "id": "27abb8cb",
   "metadata": {},
   "outputs": [
    {
     "data": {
      "text/plain": [
       "True"
      ]
     },
     "execution_count": 9,
     "metadata": {},
     "output_type": "execute_result"
    }
   ],
   "source": [
    "np.allclose(inputMatrix, p@l@u)"
   ]
  }
 ],
 "metadata": {
  "kernelspec": {
   "display_name": "Python 3",
   "language": "python",
   "name": "python3"
  },
  "language_info": {
   "codemirror_mode": {
    "name": "ipython",
    "version": 3
   },
   "file_extension": ".py",
   "mimetype": "text/x-python",
   "name": "python",
   "nbconvert_exporter": "python",
   "pygments_lexer": "ipython3",
   "version": "3.7.9"
  }
 },
 "nbformat": 4,
 "nbformat_minor": 5
}
