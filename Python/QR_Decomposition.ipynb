{
 "cells": [
  {
   "cell_type": "markdown",
   "id": "41b82351",
   "metadata": {},
   "source": [
    "# Calculation of QR Decomposition:\n",
    "\n",
    "- Implement [**QR decomposition**](https://en.wikipedia.org/wiki/QR_decomposition) for finding $Q$ and $R$ matrices."
   ]
  },
  {
   "cell_type": "code",
   "execution_count": 1,
   "id": "21e744e9",
   "metadata": {},
   "outputs": [],
   "source": [
    "# import section\n",
    "import numpy as np\n",
    "import math\n",
    "import copy\n",
    "from time import time"
   ]
  },
  {
   "cell_type": "code",
   "execution_count": 2,
   "id": "7d8d72b4",
   "metadata": {},
   "outputs": [
    {
     "data": {
      "text/plain": [
       "array([[    4.,   -30.,    60.,   -35.],\n",
       "       [  -30.,   300.,  -675.,   420.],\n",
       "       [   60.,  -675.,  1620., -1050.],\n",
       "       [  -35.,   420., -1050.,   700.]])"
      ]
     },
     "execution_count": 2,
     "metadata": {},
     "output_type": "execute_result"
    }
   ],
   "source": [
    "input_matrix = np.array([[4,-30,60,-35], [-30,300,-675,420], [60,-675,1620,-1050], [-35,420,-1050,700]], dtype = float)\n",
    "# input_matrix = np.array([[12, -51, 4], [-51, 167, -68], [4, -68, -41]], dtype=np.float)\n",
    "\n",
    "input_matrix"
   ]
  },
  {
   "cell_type": "code",
   "execution_count": 3,
   "id": "34f637f3",
   "metadata": {},
   "outputs": [],
   "source": [
    "def read_file(file_name):\n",
    "    with open(file_name, 'r') as f:\n",
    "        matrix = [[float(num) for num in line.split(',')] for line in f]\n",
    "    matrix = np.array(matrix)\n",
    "    return matrix"
   ]
  },
  {
   "cell_type": "code",
   "execution_count": 4,
   "id": "d408200b",
   "metadata": {},
   "outputs": [],
   "source": [
    "# matrix = read_file('data_8.txt')   \n",
    "# print(\"Input Matrix = \\n\",matrix)\n",
    "# print(\"\\nMatrix Shape = \",np.shape(matrix))\n",
    "\n",
    "# input_matrix = copy.deepcopy(matrix)"
   ]
  },
  {
   "attachments": {
    "image-2.png": {
     "image/png": "[encoded data removed]"
    },
    "image.png": {
     "image/png": "[encoded data removed]"
    }
   },
   "cell_type": "markdown",
   "id": "f0dd72de",
   "metadata": {},
   "source": [
    "## Projection definition:\n",
    "![image.png](attachment:image.png)\n",
    "## Dot product:\n",
    "![image-2.png](attachment:image-2.png)"
   ]
  },
  {
   "cell_type": "code",
   "execution_count": 5,
   "id": "d40bbb69",
   "metadata": {},
   "outputs": [],
   "source": [
    "def projection(u, a):\n",
    "    t1 = np.dot(u.T, a)\n",
    "    t2 = np.dot(u.T, u)\n",
    "    return (t1 / t2) * u"
   ]
  },
  {
   "cell_type": "code",
   "execution_count": 6,
   "id": "da1c12dc",
   "metadata": {},
   "outputs": [],
   "source": [
    "def vec_length(v):\n",
    "    t = 0\n",
    "    for i in v:\n",
    "        t += i*i\n",
    "    return math.sqrt(t)\n",
    "\n",
    "def vec_norm(v):\n",
    "    return math.sqrt(np.dot(v.T, v))\n",
    "\n",
    "\n",
    "assert vec_length(np.array([12, 6, -4])) == vec_norm(np.array([12, 6, -4])) == np.linalg.norm(np.array([12, 6, -4]))"
   ]
  },
  {
   "attachments": {
    "image.png": {
     "image/png": "[encoded data removed]"
    }
   },
   "cell_type": "markdown",
   "id": "cde056b8",
   "metadata": {},
   "source": [
    "## QR Decomposition - Using the Gram–Schmidt process:\n",
    "- For giveen matrix $A[a1,a2,...,an]$ in size $ N x N$ we will performe:\n",
    " ![image.png](attachment:image.png)\n",
    " Such that: $U=[u1,u2,...,un]$"
   ]
  },
  {
   "cell_type": "code",
   "execution_count": 7,
   "id": "ae8c6c19",
   "metadata": {},
   "outputs": [],
   "source": [
    "def Gram_Schmidt_process(input_matrix):\n",
    "    t = copy.deepcopy(input_matrix.T)\n",
    "    \n",
    "    U = np.array([t[0]])\n",
    "    index = 1\n",
    "    \n",
    "    for a in t[1:]:\n",
    "        b = copy.deepcopy(a)\n",
    "        for j in range(index):\n",
    "            b = b - projection(U[j] , a)\n",
    "            \n",
    "        index += 1\n",
    "        U = np.append(U, [b], axis=0) \n",
    "        \n",
    "    return U.T  "
   ]
  },
  {
   "cell_type": "code",
   "execution_count": 8,
   "id": "c895f829",
   "metadata": {},
   "outputs": [
    {
     "data": {
      "text/plain": [
       "array([[  4.        ,  14.81449225,   7.03526974,   0.41476995],\n",
       "       [-30.        , -36.10869187,  -1.1424035 ,   0.33181596],\n",
       "       [ 60.        ,  -2.78261627,  -4.33731257,   0.2765133 ],\n",
       "       [-35.        ,  27.87319282,  -5.65215915,   0.2370114 ]])"
      ]
     },
     "execution_count": 8,
     "metadata": {},
     "output_type": "execute_result"
    }
   ],
   "source": [
    "Gram_Schmidt_process(input_matrix)"
   ]
  },
  {
   "attachments": {
    "image-2.png": {
     "image/png": "[encoded data removed]"
    },
    "image.png": {
     "image/png": "[encoded data removed]"
    }
   },
   "cell_type": "markdown",
   "id": "0731a298",
   "metadata": {},
   "source": [
    "## Find Q matrix:\n",
    "![image.png](attachment:image.png)\n",
    "Q is an **orthogonal** matrix and has the property of:\n",
    "![image-2.png](attachment:image-2.png)"
   ]
  },
  {
   "cell_type": "code",
   "execution_count": 9,
   "id": "6435d888",
   "metadata": {},
   "outputs": [],
   "source": [
    "# get U matrix and convert it to Q matrix by the example.\n",
    "\n",
    "def Q_matrix(U):\n",
    "    t = copy.deepcopy(U.T)\n",
    "    \n",
    "    vec = (1 / vec_length(t[0])) * t[0]\n",
    "    Q = np.array([vec])\n",
    "    for i in t[1:]:\n",
    "        vec = (1 / vec_length(i)) * i\n",
    "        Q = np.append(Q, [vec], axis=0)\n",
    "        \n",
    "    return Q.T"
   ]
  },
  {
   "cell_type": "code",
   "execution_count": 10,
   "id": "69a2e9ae",
   "metadata": {},
   "outputs": [
    {
     "name": "stdout",
     "output_type": "stream",
     "text": [
      "Q =\n",
      " [[ 0.05279177  0.30837005  0.69810529  0.64402636]\n",
      " [-0.39593827 -0.75161801 -0.11335996  0.51522109]\n",
      " [ 0.79187654 -0.05792136 -0.43038873  0.4293509 ]\n",
      " [-0.46192798  0.58019254 -0.56086011  0.36801506]]\n"
     ]
    }
   ],
   "source": [
    "Q = Q_matrix(Gram_Schmidt_process(input_matrix)) \n",
    "print(\"Q =\\n\",Q)"
   ]
  },
  {
   "cell_type": "markdown",
   "id": "6cd3169c",
   "metadata": {},
   "source": [
    "## Find R matrix:\n",
    "- R is an **upper triangular** matrix."
   ]
  },
  {
   "cell_type": "code",
   "execution_count": 11,
   "id": "644de4a8",
   "metadata": {},
   "outputs": [],
   "source": [
    "def R_matrix(input_matrix, Q):\n",
    "    R = np.dot(Q.T, input_matrix)    \n",
    "    return np.round(R, decimals=3)"
   ]
  },
  {
   "cell_type": "code",
   "execution_count": 12,
   "id": "789a29d7",
   "metadata": {},
   "outputs": [
    {
     "name": "stdout",
     "output_type": "stream",
     "text": [
      "R = \n",
      " [[ 7.576900e+01 -8.488920e+02  2.038290e+03 -1.322962e+03]\n",
      " [ 0.000000e+00  4.804100e+01 -1.771900e+02  1.404800e+02]\n",
      " [ 0.000000e+00 -0.000000e+00  1.007800e+01 -1.273900e+01]\n",
      " [-0.000000e+00 -0.000000e+00  0.000000e+00  6.440000e-01]]\n"
     ]
    }
   ],
   "source": [
    "R = R_matrix(input_matrix, Q_matrix(Gram_Schmidt_process(input_matrix)))\n",
    "print(\"R = \\n\",R)"
   ]
  },
  {
   "cell_type": "markdown",
   "id": "7acf15b4",
   "metadata": {},
   "source": [
    "# QR decomposition:"
   ]
  },
  {
   "cell_type": "code",
   "execution_count": 13,
   "id": "f90391a2",
   "metadata": {},
   "outputs": [],
   "source": [
    "def QR_decomposition(input_matrix):\n",
    "    Q = Q_matrix(Gram_Schmidt_process(input_matrix))\n",
    "    R = R_matrix(input_matrix, Q)\n",
    "    return Q, R"
   ]
  },
  {
   "cell_type": "markdown",
   "id": "f6d6d92d",
   "metadata": {},
   "source": [
    "## Performance Assessments:\n",
    "\n",
    "### Print our QR decomposition:"
   ]
  },
  {
   "cell_type": "code",
   "execution_count": 14,
   "id": "5becbded",
   "metadata": {},
   "outputs": [
    {
     "name": "stdout",
     "output_type": "stream",
     "text": [
      "Program QR decomposition results:\n",
      "\n",
      "Q = \n",
      "[[ 0.0294237   0.18373921  0.60101627  0.77568595]\n",
      " [-0.32965205 -0.74426285 -0.35295308  0.46225831]\n",
      " [ 0.79153393  0.09535238 -0.5018093   0.33683612]\n",
      " [-0.51374878  0.63499656 -0.51224115  0.26677702]]\n",
      "R = \n",
      "[[ 1.95114819e+05 -2.19695881e+06  5.28942183e+06 -3.43902862e+06]\n",
      " [-0.00000000e+00  1.75606500e+03 -6.54872100e+03  5.22605700e+03]\n",
      " [-0.00000000e+00  0.00000000e+00  1.47960000e+01 -1.89160000e+01]\n",
      " [-0.00000000e+00  6.00000000e-03 -6.00000000e-02  1.76000000e-01]]\n",
      "Time = 0.0019979476928710938\n"
     ]
    }
   ],
   "source": [
    "A = np.dot(input_matrix.T, input_matrix)\n",
    "print(\"Program QR decomposition results:\\n\")\n",
    "\n",
    "start = time()\n",
    "Q, R = QR_decomposition(A)\n",
    "print(\"Q = \\n{}\".format(Q))\n",
    "print(\"R = \\n{}\".format(R))\n",
    "print(\"Time = {}\".format(time() - start))"
   ]
  },
  {
   "cell_type": "markdown",
   "id": "194f38e1",
   "metadata": {},
   "source": [
    "### Print QR decomposition made by NumPy library:"
   ]
  },
  {
   "cell_type": "code",
   "execution_count": 15,
   "id": "fb2517d7",
   "metadata": {},
   "outputs": [
    {
     "name": "stdout",
     "output_type": "stream",
     "text": [
      "NumPy Library QR decomposition results:\n",
      "\n",
      "Q = \n",
      "[[-0.0294237   0.18373921  0.60101627  0.77727318]\n",
      " [ 0.32965205 -0.74426285 -0.35295305  0.4613312 ]\n",
      " [-0.79153393  0.09535238 -0.50180931  0.3355136 ]\n",
      " [ 0.51374878  0.63499656 -0.51224117  0.26542521]]\n",
      "R = \n",
      "[[-1.95114819e+05  2.19695881e+06 -5.28942183e+06  3.43902862e+06]\n",
      " [ 0.00000000e+00  1.75606505e+03 -6.54872094e+03  5.22605691e+03]\n",
      " [ 0.00000000e+00  0.00000000e+00  1.47966474e+01 -1.89163241e+01]\n",
      " [ 0.00000000e+00  0.00000000e+00  0.00000000e+00  1.10090402e-01]]\n",
      "Time = 0.0019943714141845703\n"
     ]
    }
   ],
   "source": [
    "print(\"NumPy Library QR decomposition results:\\n\")\n",
    "\n",
    "start = time()\n",
    "Q, R = np.linalg.qr(A)\n",
    "print(\"Q = \\n{}\".format(Q))\n",
    "print(\"R = \\n{}\".format(R))\n",
    "print(\"Time = {}\".format(time() - start))"
   ]
  },
  {
   "cell_type": "markdown",
   "id": "bf913eae",
   "metadata": {},
   "source": [
    "### Print QR decomposition made by SciPy library:"
   ]
  },
  {
   "cell_type": "code",
   "execution_count": 16,
   "id": "54d5725d",
   "metadata": {},
   "outputs": [
    {
     "name": "stdout",
     "output_type": "stream",
     "text": [
      "SciPy Library QR decomposition results:\n",
      "\n",
      "Q = \n",
      "[[-0.0294237   0.18373921  0.60101627  0.77727318]\n",
      " [ 0.32965205 -0.74426285 -0.35295305  0.4613312 ]\n",
      " [-0.79153393  0.09535238 -0.50180931  0.3355136 ]\n",
      " [ 0.51374878  0.63499656 -0.51224117  0.26542521]]\n",
      "R = \n",
      "[[-1.95114819e+05  2.19695881e+06 -5.28942183e+06  3.43902862e+06]\n",
      " [ 0.00000000e+00  1.75606505e+03 -6.54872094e+03  5.22605691e+03]\n",
      " [ 0.00000000e+00  0.00000000e+00  1.47966474e+01 -1.89163241e+01]\n",
      " [ 0.00000000e+00  0.00000000e+00  0.00000000e+00  1.10090402e-01]]\n",
      "Time = 0.0009849071502685547\n"
     ]
    }
   ],
   "source": [
    "print(\"SciPy Library QR decomposition results:\\n\")\n",
    "from scipy import linalg\n",
    "\n",
    "start = time()\n",
    "Q, R = linalg.qr(A)\n",
    "print(\"Q = \\n{}\".format(Q))\n",
    "print(\"R = \\n{}\".format(R))\n",
    "print(\"Time = {}\".format(time() - start))"
   ]
  }
 ],
 "metadata": {
  "kernelspec": {
   "display_name": "Python 3",
   "language": "python",
   "name": "python3"
  },
  "language_info": {
   "codemirror_mode": {
    "name": "ipython",
    "version": 3
   },
   "file_extension": ".py",
   "mimetype": "text/x-python",
   "name": "python",
   "nbconvert_exporter": "python",
   "pygments_lexer": "ipython3",
   "version": "3.7.9"
  }
 },
 "nbformat": 4,
 "nbformat_minor": 5
}
