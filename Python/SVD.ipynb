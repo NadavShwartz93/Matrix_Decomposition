{
 "cells": [
  {
   "cell_type": "markdown",
   "id": "51a84af3",
   "metadata": {},
   "source": [
    "# Calculation of Singular Value Decomposition (SVD) of Matrix  :\n",
    "\n",
    "- Implemnt **Jacobi Method** : Eigenvalues and Eigenvectors.\\\n",
    "  For the purpose of finding [SVD](https://en.wikipedia.org/wiki/Singular_value_decomposition) of given matrix.\n",
    "\n",
    "\n",
    "\n",
    "- Useful References::\n",
    "  [References1](https://www.patnauniversity.ac.in/e-content/science/physics/MScPhy58.pdf)\n",
    "  [References2](https://en.wikipedia.org/wiki/Jacobi_eigenvalue_algorithm)"
   ]
  },
  {
   "cell_type": "code",
   "execution_count": 1,
   "id": "73159b13",
   "metadata": {},
   "outputs": [],
   "source": [
    "# import section\n",
    "import numpy as np\n",
    "import math\n",
    "import copy\n",
    "from time import time"
   ]
  },
  {
   "cell_type": "markdown",
   "id": "8a544602",
   "metadata": {},
   "source": [
    "### Input data: \n",
    "Samples of input data:"
   ]
  },
  {
   "cell_type": "code",
   "execution_count": 2,
   "id": "843efd0c",
   "metadata": {},
   "outputs": [],
   "source": [
    "input_matrix = np.array([[4,-30,60,-35], [-30,300,-675,420], [60,-675,1620,-1050], [-35,420,-1050,700]], dtype = float)\n",
    "# input_matrix = np.array([[1, math.sqrt(2), 2], [math.sqrt(2), 3, math.sqrt(2)], [2, math.sqrt(2), 1]], dtype = float)\n",
    "# input_matrix = np.array([[1, 2, 7], [2, 5, 1], [7, 1, 6]], dtype = float)\n",
    "# input_matrix = np.array([[1, 2], [2, 4]], dtype = float)\n",
    "# input_matrix = np.array([[2, 0], [0, 3]], dtype = float)"
   ]
  },
  {
   "cell_type": "code",
   "execution_count": 3,
   "id": "27ac17b6",
   "metadata": {},
   "outputs": [
    {
     "data": {
      "text/plain": [
       "array([[    4.,   -30.,    60.,   -35.],\n",
       "       [  -30.,   300.,  -675.,   420.],\n",
       "       [   60.,  -675.,  1620., -1050.],\n",
       "       [  -35.,   420., -1050.,   700.]])"
      ]
     },
     "execution_count": 3,
     "metadata": {},
     "output_type": "execute_result"
    }
   ],
   "source": [
    "input_matrix"
   ]
  },
  {
   "cell_type": "markdown",
   "id": "2dd79880",
   "metadata": {},
   "source": [
    "### Read input file: \n",
    "\n",
    "Read matrix from **Input_matrix.txt** and convert it to numpy array."
   ]
  },
  {
   "cell_type": "code",
   "execution_count": 4,
   "id": "f6071c27",
   "metadata": {},
   "outputs": [],
   "source": [
    "def read_file(file_name):\n",
    "    with open(file_name, 'r') as f:\n",
    "        matrix = [[float(num) for num in line.split(',')] for line in f]\n",
    "#     matrix = np.array(matrix)\n",
    "    matrix = np.asarray(matrix,dtype=float)\n",
    "    return matrix"
   ]
  },
  {
   "cell_type": "code",
   "execution_count": 5,
   "id": "cbc7746e",
   "metadata": {},
   "outputs": [
    {
     "name": "stdout",
     "output_type": "stream",
     "text": [
      "Input Matrix = \n",
      " [[    4.   -30.    60.   -35.]\n",
      " [  -30.   300.  -675.   420.]\n",
      " [   60.  -675.  1620. -1050.]\n",
      " [  -35.   420. -1050.   700.]]\n",
      "\n",
      "Input Matrix Shape = (4, 4)\n"
     ]
    },
    {
     "data": {
      "text/plain": [
       "(4, 4)"
      ]
     },
     "execution_count": 5,
     "metadata": {},
     "output_type": "execute_result"
    }
   ],
   "source": [
    "# input_matrix = read_file('Input_matrix.txt')   \n",
    "print(\"Input Matrix = \\n\",input_matrix)\n",
    "print(\"\\nInput Matrix Shape =\",np.shape(input_matrix))\n",
    "\n",
    "# input_matrix = input_matrix.T @ input_matrix\n",
    "np.shape(input_matrix)"
   ]
  },
  {
   "cell_type": "code",
   "execution_count": 6,
   "id": "bbf6efff",
   "metadata": {},
   "outputs": [],
   "source": [
    "def vec_norm(v):\n",
    "    return math.sqrt(np.dot(v.T, v))"
   ]
  },
  {
   "cell_type": "markdown",
   "id": "3b8c8efa",
   "metadata": {},
   "source": [
    "### find_max_num\n",
    "- method find the largest absolute value off-diagonal element, and return his index and value.\n",
    "- The given matrix is **symmetric**, so only need to search in the upper triangular matrix."
   ]
  },
  {
   "cell_type": "code",
   "execution_count": 7,
   "id": "fedd6ea6",
   "metadata": {},
   "outputs": [],
   "source": [
    "def find_max_num(input_matrix):\n",
    "#   initialize values:\n",
    "    max_val = abs(input_matrix[0,1])\n",
    "    ret_values = (0, 1, max_val)\n",
    "    \n",
    "    for i,l1 in enumerate(input_matrix):\n",
    "        for j, num in enumerate(l1[i+1:]):\n",
    "            j = j + i + 1\n",
    "            if abs(num) > max_val:\n",
    "                max_val = abs(num)\n",
    "                ret_values = (i, j, max_val)\n",
    "    return ret_values"
   ]
  },
  {
   "cell_type": "markdown",
   "id": "da7e5e84",
   "metadata": {},
   "source": [
    "### calce_J_matrix\n",
    "method find the rotation matrix that called J."
   ]
  },
  {
   "cell_type": "code",
   "execution_count": 8,
   "id": "5ac254b1",
   "metadata": {},
   "outputs": [],
   "source": [
    "def calce_J_matrix(A, p, q):\n",
    "    \n",
    "#     alocation new identity matrix:\n",
    "    n= len(A)\n",
    "    J = np.eye(n) \n",
    "    \n",
    "#     calculate theta:\n",
    "    if A[q,q] == A[p,p]:\n",
    "        theta = math.pi / 4\n",
    "    else:\n",
    "        a = (2*A[p,q]) / (A[q,q] - A[p,p])\n",
    "        theta = 0.5 * math.atan(a)\n",
    "\n",
    "    \n",
    "#     insert new values to different places in the matrix J:\n",
    "    J[p,p] = J[q,q] = cosinus = math.cos(theta)\n",
    "    J[q,p] = sin = math.sin(theta)\n",
    "    J[p,q] = -1 * math.sin(theta)\n",
    "    \n",
    "    return J, cosinus, sin"
   ]
  },
  {
   "cell_type": "code",
   "execution_count": 9,
   "id": "ef759195",
   "metadata": {},
   "outputs": [],
   "source": [
    "# calce_J_matrix(input_matrix, find_max_num(input_matrix)[0], find_max_num(input_matrix)[1])"
   ]
  },
  {
   "attachments": {
    "image.png": {
     "image/png": "[encoded data removed]"
    }
   },
   "cell_type": "markdown",
   "id": "42518920",
   "metadata": {},
   "source": [
    "![image.png](attachment:image.png)\n",
    "\n",
    "- **Explanation:**\n",
    "\n",
    "For make the performention of Jacobi eigenvalue Algorithm better, \n",
    "\n",
    "matrix multiplication of $J^T * A * J$ is replaced by some elementary operations.\n",
    "\n",
    "Then, the all function performance become\n",
    "$O(n)$ instead of $O(n^2)$."
   ]
  },
  {
   "cell_type": "code",
   "execution_count": 10,
   "id": "475e8200",
   "metadata": {},
   "outputs": [],
   "source": [
    "def calc_matrix(mtx, cos, sin, i, j):\n",
    "    S = np.copy(mtx)\n",
    "    \n",
    "    a_ii = mtx[i, i]\n",
    "    a_ij = mtx[i, j]\n",
    "    \n",
    "    a_jj = mtx[j, j]\n",
    "    a_ji = mtx[j, i]\n",
    "    \n",
    "    S[i, i] = (cos ** 2) * a_ii - 2*sin*cos*a_ij + (sin ** 2)*a_jj\n",
    "    S[j, j] = (sin ** 2) * a_ii + 2*sin*cos*a_ij + (cos ** 2)*a_jj\n",
    "    S[i, j] = S[j, i] = ((cos ** 2) - (sin ** 2))*a_ij + sin*cos*(a_ii - a_jj)\n",
    "    \n",
    "    for k in range(len(S)):\n",
    "        if k != i and k != j:\n",
    "            S[i, k] = S[k, i] = cos * mtx[i, k] - sin * mtx[j, k]\n",
    "            S[j, k] = S[k, j] = sin * mtx[i, k] + cos * mtx[j, k]\n",
    "            \n",
    "    return S"
   ]
  },
  {
   "cell_type": "markdown",
   "id": "b5e6ec17",
   "metadata": {},
   "source": [
    "### check_and_update\n",
    "method is doing the following things:\n",
    "- Convert numpy array elemnt that is smaller than total ( almost equal to $0$ ) to be $0$.\n",
    "- Check if the given matrix is diagonal."
   ]
  },
  {
   "cell_type": "code",
   "execution_count": 11,
   "id": "a9e048ac",
   "metadata": {},
   "outputs": [],
   "source": [
    "def check_and_update(A, total = 1.0e-9):\n",
    "    isDiagonalMatrix = True\n",
    "    \n",
    "    for i, l in enumerate(A):\n",
    "        for j,num in enumerate(l[i+1:]):\n",
    "#             Check the upper triangular matrix values only\n",
    "            j = j + i + 1\n",
    "#           The case the value is almost 0:\n",
    "            if abs(num) < total:\n",
    "                A[i,j] = A[j, i] = 0\n",
    "            else:\n",
    "                return False\n",
    "    \n",
    "    return isDiagonalMatrix"
   ]
  },
  {
   "cell_type": "markdown",
   "id": "7d4fff2f",
   "metadata": {},
   "source": [
    "### Jacobi\n",
    "method Implemnt [Jacobi Method](https://en.wikipedia.org/wiki/Jacobi_eigenvalue_algorithm).\n",
    "- The method return Eigenvalues and Eigenvectors."
   ]
  },
  {
   "cell_type": "code",
   "execution_count": 12,
   "id": "fac8573b",
   "metadata": {},
   "outputs": [],
   "source": [
    "def Jacobi(A, total = 1.0e-9):\n",
    "    \n",
    "#     Initialize of the variables:\n",
    "    mtx = copy.deepcopy(A)\n",
    "    n = len(mtx)\n",
    "    J = np.eye(n)\n",
    "    \n",
    "    \n",
    "#     Set limit on the number of iteration:\n",
    "    max_iterations = 100\n",
    "    cur_iteration_num = 0\n",
    "    \n",
    "    for i in range(max_iterations):\n",
    "\n",
    "        p, q, max_val = find_max_num(mtx)\n",
    "        \n",
    "        if max_val < total: \n",
    "            return J, np.diag(mtx), cur_iteration_num\n",
    "        \n",
    "        J1, cos, sin = calce_J_matrix(mtx, p, q)\n",
    "        mtx = calc_matrix(mtx, cos, sin, p, q)\n",
    "        J = np.dot(J, J1)\n",
    "                \n",
    "        cur_iteration_num += 1\n",
    "        \n",
    "        if check_and_update(mtx, total):\n",
    "            break\n",
    "        \n",
    "    \n",
    "    return J, np.diag(mtx), cur_iteration_num"
   ]
  },
  {
   "cell_type": "code",
   "execution_count": 13,
   "id": "c1930768",
   "metadata": {},
   "outputs": [],
   "source": [
    "# eigenvectors, eigenvalues, _ = Jacobi(input_matrix)\n",
    "# print(\"Input Matrix = \\n{}\".format(input_matrix))\n",
    "# print(\"Eigenvectors = \\n\", eigenvectors)\n",
    "# print(\"Eigenvalues = \\n\", eigenvalues)"
   ]
  },
  {
   "cell_type": "markdown",
   "id": "e3bb1550",
   "metadata": {},
   "source": [
    "### rearrange\n",
    "method remove negative and zero Eigenvalues and their Eigenvectors.\n",
    "\n",
    "- The method return Sorted list, of Eigenvalues and their Eigenvectors."
   ]
  },
  {
   "cell_type": "code",
   "execution_count": 14,
   "id": "1b558285",
   "metadata": {},
   "outputs": [],
   "source": [
    "def rearrange(vecs, lamda):    \n",
    "    \n",
    "#     Initialize of the variables:\n",
    "    t_lst = []\n",
    "    flag = False\n",
    "\n",
    "    for i, λ in enumerate(lamda):\n",
    "        if λ > 0:\n",
    "            t = (λ, vecs[:,i])\n",
    "            if len(t_lst) == 0:\n",
    "                t_lst.append(t)\n",
    "            else:\n",
    "                for index, temp in enumerate(t_lst):\n",
    "                    if temp[0] <= λ:\n",
    "                        t_lst.insert(index, t)\n",
    "                        flag = True\n",
    "                        break      \n",
    "                if not flag:\n",
    "                    t_lst.append(t)\n",
    "                \n",
    "                \n",
    "    return t_lst"
   ]
  },
  {
   "cell_type": "code",
   "execution_count": 15,
   "id": "f057c95f",
   "metadata": {},
   "outputs": [],
   "source": [
    "# rearrange(eigenvectors, eigenvalues)"
   ]
  },
  {
   "cell_type": "markdown",
   "id": "bbc6a8b4",
   "metadata": {},
   "source": [
    "### SVD\n",
    "- This method get input matrix and perfome Singular Value Decomposition **(SVD)**."
   ]
  },
  {
   "cell_type": "code",
   "execution_count": 16,
   "id": "8b107dfa",
   "metadata": {},
   "outputs": [],
   "source": [
    "def SVD(input_matrix):\n",
    "    A = copy.deepcopy(input_matrix)\n",
    "    \n",
    "    AT_A = np.dot(A.T, A)\n",
    "    \n",
    "    eigenvectors, eigenvalues, _ = Jacobi(AT_A)\n",
    "    t_lst = rearrange(eigenvectors, eigenvalues)\n",
    "    \n",
    "#     Build Sigma matrix - contain the Singular Values in descending order on the main diagonal:\n",
    "\n",
    "    Sigma = None\n",
    "    \n",
    "#     Build U matrix - (1 / Singular Values)*A*V\n",
    "\n",
    "    U = None\n",
    "    \n",
    "#     Build V.T matrix - contain the transpose of the eigenvectors.\n",
    "\n",
    "    V_T = None\n",
    "    \n",
    "    for index, values in enumerate(t_lst):\n",
    "        \n",
    "        s = math.sqrt(values[0])\n",
    "       \n",
    "        v = (1/vec_norm(values[1]))*values[1]\n",
    "        \n",
    "        u = (1 / s)*np.dot(A, v)\n",
    "        \n",
    "        if index == 0:\n",
    "            \n",
    "            Sigma = np.array([s],dtype = float)\n",
    "#             print(\"Sigma = \\n\",Sigma)\n",
    "            \n",
    "            U = np.array([u],dtype = float)\n",
    "#             print(\"U = \\n\", U)\n",
    "            \n",
    "            V_T = np.array([v],dtype = float)   \n",
    "#             print(\"V_T = \\n\",V_T)\n",
    "            \n",
    "        else:\n",
    "            Sigma = np.append(Sigma, [s], axis=0)\n",
    "#             print(\"Sigma = \\n\",Sigma)\n",
    "            \n",
    "            U = np.append(U, [u], axis=0)\n",
    "#             print(\"U = \\n\", U)\n",
    "            \n",
    "            V_T = np.append(V_T, [v], axis=0)\n",
    "#             print(\"V_T = \\n\",V_T)\n",
    "\n",
    "    U = U.T\n",
    "    return U, Sigma, V_T"
   ]
  },
  {
   "cell_type": "markdown",
   "id": "b3387a65",
   "metadata": {},
   "source": [
    "### Print our SVD:"
   ]
  },
  {
   "cell_type": "code",
   "execution_count": 17,
   "id": "bb963e63",
   "metadata": {
    "scrolled": true
   },
   "outputs": [
    {
     "name": "stdout",
     "output_type": "stream",
     "text": [
      "Print our SVD:\n",
      "U = \n",
      " [[ 7.54065860e-03 -1.78358761e+00 -7.77502121e+00  1.74946683e+02]\n",
      " [-8.45454672e-02  1.96363196e+01  1.17467966e+02 -2.02825769e+03]\n",
      " [ 2.00407139e-01 -4.66841185e+01 -3.19807720e+02  5.00003675e+03]\n",
      " [-1.28292508e-01  3.01120288e+01  2.22968285e+02 -3.30523069e+03]] \n",
      " S = \n",
      " [2.58525381e+03 3.71014914e+01 1.47805484e+00 1.66642862e-01] \n",
      " V.T = \n",
      " [[-0.02918591  0.32874127  0.79138951  0.51456778]\n",
      " [ 0.17905662  0.74532157 -0.53449131  0.3560246 ]\n",
      " [ 0.58211473 -0.5308878  -0.14689179  0.59809981]\n",
      " [ 0.7926092   0.23363021  0.25776828 -0.50074254]]\n",
      "Time = 0.007385730743408203\n"
     ]
    }
   ],
   "source": [
    "print(\"Print our SVD:\")\n",
    "start = time()\n",
    "u, s, vt = SVD(input_matrix)\n",
    "print(\"U = \\n\", u, \"\\n\", \"S = \\n\", s, \"\\n\", \"V.T = \\n\",vt)\n",
    "print(\"Time = {}\".format(time() - start))"
   ]
  },
  {
   "cell_type": "markdown",
   "id": "cff53c48",
   "metadata": {},
   "source": [
    "### Print SVD made by numpy library:"
   ]
  },
  {
   "cell_type": "code",
   "execution_count": 18,
   "id": "2e07b7a6",
   "metadata": {},
   "outputs": [
    {
     "name": "stdout",
     "output_type": "stream",
     "text": [
      "Print NumPy SVD:\n",
      "U = \n",
      " [[-0.02919332  0.17918629  0.5820757   0.79260829]\n",
      " [ 0.32871206 -0.74191779 -0.37050219  0.45192312]\n",
      " [-0.79141115  0.10022814 -0.50957863  0.3224164 ]\n",
      " [ 0.51455275  0.63828253 -0.51404827  0.25216117]] \n",
      " S = \n",
      " [2.58525381e+03 3.71014914e+01 1.47805484e+00 1.66642861e-01] \n",
      " V.T = \n",
      " [[-0.02919332  0.32871206 -0.79141115  0.51455275]\n",
      " [ 0.17918629 -0.74191779  0.10022814  0.63828253]\n",
      " [ 0.5820757  -0.37050219 -0.50957863 -0.51404827]\n",
      " [ 0.79260829  0.45192312  0.3224164   0.25216117]]\n",
      "Time = 0.0039904117584228516\n"
     ]
    }
   ],
   "source": [
    "print(\"Print NumPy SVD:\")\n",
    "start = time()\n",
    "numpy_u, numpy_s, numpy_vt = np.linalg.svd(input_matrix)\n",
    "print(\"U = \\n\", numpy_u, \"\\n\", \"S = \\n\", numpy_s, \"\\n\", \"V.T = \\n\",numpy_vt)\n",
    "print(\"Time = {}\".format(time() - start))"
   ]
  },
  {
   "cell_type": "markdown",
   "id": "782cbe6e",
   "metadata": {},
   "source": [
    "### Program Performance Assessment\n",
    "- Checking that the $U * S * V^T$ is equal to input matrix.\n"
   ]
  },
  {
   "cell_type": "code",
   "execution_count": 19,
   "id": "d7817bd3",
   "metadata": {},
   "outputs": [
    {
     "name": "stdout",
     "output_type": "stream",
     "text": [
      "Examination Of The Decomposition:\n",
      "\n",
      "Input matrix = \n",
      "[[    4.   -30.    60.   -35.]\n",
      " [  -30.   300.  -675.   420.]\n",
      " [   60.  -675.  1620. -1050.]\n",
      " [  -35.   420. -1050.   700.]]\n",
      "\n",
      "Result Of The 3 Matrix Multiplication From SVD Is:\n",
      "U*S*V.t =\n",
      "[[    4.   -30.    60.   -35.]\n",
      " [  -30.   300.  -675.   420.]\n",
      " [   60.  -675.  1620. -1050.]\n",
      " [  -35.   420. -1050.   700.]]\n"
     ]
    }
   ],
   "source": [
    "print(\"Examination Of The Decomposition:\\n\")\n",
    "print(\"Input matrix = \\n{}\".format(input_matrix),end=\"\\n\\n\")\n",
    "\n",
    "u, s, vt = SVD(input_matrix)\n",
    "\n",
    "res = u @ np.diag(s) @ vt\n",
    "\n",
    "print(\"Result Of The 3 Matrix Multiplication From SVD Is:\\nU*S*V.t =\\n{}\".format(res))"
   ]
  }
 ],
 "metadata": {
  "kernelspec": {
   "display_name": "Python 3",
   "language": "python",
   "name": "python3"
  },
  "language_info": {
   "codemirror_mode": {
    "name": "ipython",
    "version": 3
   },
   "file_extension": ".py",
   "mimetype": "text/x-python",
   "name": "python",
   "nbconvert_exporter": "python",
   "pygments_lexer": "ipython3",
   "version": "3.7.9"
  }
 },
 "nbformat": 4,
 "nbformat_minor": 5
}
